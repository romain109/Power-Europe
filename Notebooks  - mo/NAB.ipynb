{
 "cells": [
  {
   "cell_type": "markdown",
   "metadata": {},
   "source": [
    "# New ANA"
   ]
  },
  {
   "cell_type": "code",
   "execution_count": 2,
   "metadata": {},
   "outputs": [
    {
     "name": "stdout",
     "output_type": "stream",
     "text": [
      "2022.01.15\n",
      "ok\n"
     ]
    },
    {
     "data": {
      "text/html": [
       "<div>\n",
       "<style scoped>\n",
       "    .dataframe tbody tr th:only-of-type {\n",
       "        vertical-align: middle;\n",
       "    }\n",
       "\n",
       "    .dataframe tbody tr th {\n",
       "        vertical-align: top;\n",
       "    }\n",
       "\n",
       "    .dataframe thead th {\n",
       "        text-align: right;\n",
       "    }\n",
       "</style>\n",
       "<table border=\"1\" class=\"dataframe\">\n",
       "  <thead>\n",
       "    <tr style=\"text-align: right;\">\n",
       "      <th></th>\n",
       "      <th>date</th>\n",
       "      <th>ASSESS_DATE</th>\n",
       "      <th>KEY</th>\n",
       "      <th>INDEX1</th>\n",
       "      <th>INDEX2</th>\n",
       "      <th>CONTRACT</th>\n",
       "      <th>ORIG_CONTRACT_NAME</th>\n",
       "      <th>CONTRACT1_START_DATE</th>\n",
       "      <th>CONTRACT1_END_DATE</th>\n",
       "      <th>CONTRACT2_START_DATE</th>\n",
       "      <th>...</th>\n",
       "      <th>STATUS</th>\n",
       "      <th>USER</th>\n",
       "      <th>REVISION</th>\n",
       "      <th>COMMENT_ID</th>\n",
       "      <th>SRC</th>\n",
       "      <th>DTINSERTED</th>\n",
       "      <th>LOCATION</th>\n",
       "      <th>TYPE</th>\n",
       "      <th>REGULATORY_AREA</th>\n",
       "      <th>TGP_PRICE</th>\n",
       "    </tr>\n",
       "  </thead>\n",
       "  <tbody>\n",
       "  </tbody>\n",
       "</table>\n",
       "<p>0 rows × 29 columns</p>\n",
       "</div>"
      ],
      "text/plain": [
       "Empty DataFrame\n",
       "Columns: [date, ASSESS_DATE, KEY, INDEX1, INDEX2, CONTRACT, ORIG_CONTRACT_NAME, CONTRACT1_START_DATE, CONTRACT1_END_DATE, CONTRACT2_START_DATE, CONTRACT2_END_DATE, PRICE, PRODUCT, PRODUCT_TYPE, PROFILE, CONTRACT_TYPE, CCY, QUANTITY_UNIT, RELTAG, STATUS, USER, REVISION, COMMENT_ID, SRC, DTINSERTED, LOCATION, TYPE, REGULATORY_AREA, TGP_PRICE]\n",
       "Index: []\n",
       "\n",
       "[0 rows x 29 columns]"
      ]
     },
     "execution_count": 2,
     "metadata": {},
     "output_type": "execute_result"
    }
   ],
   "source": [
    "#from ayx import Alteryx\n",
    "from qpython import qconnection \n",
    "import requests\n",
    "from requests_kerberos import HTTPKerberosAuth\n",
    "import pandas as pd \n",
    "import numpy as np \n",
    "from datetime import datetime\n",
    "\n",
    "#date = Alteryx.read('#2')\n",
    "#date = date.iloc[:,0].values[0]\n",
    "\n",
    "date = \"2022-01-15\"\n",
    "\n",
    "kdb_date = str(date)[:10]\n",
    "kdb_date = kdb_date.replace('-','.')\n",
    "print(kdb_date)\n",
    "\n",
    "\n",
    "## Open a connection to kdb \n",
    "q = qconnection.QConnection(host = 'kdb.dts.corp.local', port = 8004,username = 'Administrator',password = 'password', pandas = True)\n",
    "\n",
    "## Pull data \n",
    "q.open()\n",
    "kdb_trades=q.sendSync('.engie.getAssessmentsPrices('+kdb_date+')')\n",
    "q.close() \n",
    "print(\"ok\")\n",
    "\n",
    "## kdb symbols/strings returned as python byte strings -- convert these to regular strings \n",
    "bstr_cols = kdb_trades.select_dtypes([object]).columns\n",
    "for i in bstr_cols:\n",
    "    kdb_trades[i]=kdb_trades[i].apply(lambda x: x.decode('latin'))\n",
    "\n",
    "kdb_trades"
   ]
  },
  {
   "cell_type": "code",
   "execution_count": null,
   "metadata": {},
   "outputs": [],
   "source": []
  }
 ],
 "metadata": {
  "kernelspec": {
   "display_name": "Python 3.6.5 ('base')",
   "language": "python",
   "name": "python3"
  },
  "language_info": {
   "codemirror_mode": {
    "name": "ipython",
    "version": 3
   },
   "file_extension": ".py",
   "mimetype": "text/x-python",
   "name": "python",
   "nbconvert_exporter": "python",
   "pygments_lexer": "ipython3",
   "version": "3.6.5"
  },
  "orig_nbformat": 4,
  "vscode": {
   "interpreter": {
    "hash": "2244af920e24f19b91b0ecb124ccc42cfb72b56e53b91f244d33cc808c630b60"
   }
  }
 },
 "nbformat": 4,
 "nbformat_minor": 2
}
