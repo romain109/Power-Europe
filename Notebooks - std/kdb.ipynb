{
 "cells": [
  {
   "cell_type": "code",
   "execution_count": 1,
   "metadata": {},
   "outputs": [
    {
     "ename": "ModuleNotFoundError",
     "evalue": "No module named 'ayx'",
     "output_type": "error",
     "traceback": [
      "\u001b[1;31m---------------------------------------------------------------------------\u001b[0m",
      "\u001b[1;31mModuleNotFoundError\u001b[0m                       Traceback (most recent call last)",
      "\u001b[1;32mc:\\Users\\rmolli\\Desktop\\Power-Europe\\Notebooks - std\\kdb.ipynb Cell 1\u001b[0m in \u001b[0;36m<cell line: 8>\u001b[1;34m()\u001b[0m\n\u001b[0;32m      <a href='vscode-notebook-cell:/c%3A/Users/rmolli/Desktop/Power-Europe/Notebooks%20-%20std/kdb.ipynb#W0sZmlsZQ%3D%3D?line=0'>1</a>\u001b[0m \u001b[39m#################################\u001b[39;00m\n\u001b[0;32m      <a href='vscode-notebook-cell:/c%3A/Users/rmolli/Desktop/Power-Europe/Notebooks%20-%20std/kdb.ipynb#W0sZmlsZQ%3D%3D?line=1'>2</a>\u001b[0m \u001b[39m#Pour installer des packages\u001b[39;00m\n\u001b[0;32m      <a href='vscode-notebook-cell:/c%3A/Users/rmolli/Desktop/Power-Europe/Notebooks%20-%20std/kdb.ipynb#W0sZmlsZQ%3D%3D?line=2'>3</a>\u001b[0m \u001b[39m#from ayx import Package\u001b[39;00m\n\u001b[1;32m   (...)\u001b[0m\n\u001b[0;32m      <a href='vscode-notebook-cell:/c%3A/Users/rmolli/Desktop/Power-Europe/Notebooks%20-%20std/kdb.ipynb#W0sZmlsZQ%3D%3D?line=5'>6</a>\u001b[0m \n\u001b[0;32m      <a href='vscode-notebook-cell:/c%3A/Users/rmolli/Desktop/Power-Europe/Notebooks%20-%20std/kdb.ipynb#W0sZmlsZQ%3D%3D?line=6'>7</a>\u001b[0m \u001b[39m#################################\u001b[39;00m\n\u001b[1;32m----> <a href='vscode-notebook-cell:/c%3A/Users/rmolli/Desktop/Power-Europe/Notebooks%20-%20std/kdb.ipynb#W0sZmlsZQ%3D%3D?line=7'>8</a>\u001b[0m \u001b[39mfrom\u001b[39;00m \u001b[39mayx\u001b[39;00m \u001b[39mimport\u001b[39;00m Alteryx\n\u001b[0;32m      <a href='vscode-notebook-cell:/c%3A/Users/rmolli/Desktop/Power-Europe/Notebooks%20-%20std/kdb.ipynb#W0sZmlsZQ%3D%3D?line=8'>9</a>\u001b[0m \u001b[39mfrom\u001b[39;00m \u001b[39mqpython\u001b[39;00m \u001b[39mimport\u001b[39;00m qconnection \n\u001b[0;32m     <a href='vscode-notebook-cell:/c%3A/Users/rmolli/Desktop/Power-Europe/Notebooks%20-%20std/kdb.ipynb#W0sZmlsZQ%3D%3D?line=9'>10</a>\u001b[0m \u001b[39mimport\u001b[39;00m \u001b[39mpandas\u001b[39;00m \u001b[39mas\u001b[39;00m \u001b[39mpd\u001b[39;00m \n",
      "\u001b[1;31mModuleNotFoundError\u001b[0m: No module named 'ayx'"
     ]
    }
   ],
   "source": [
    "from qpython import qconnection \n",
    "import pandas as pd \n",
    "import numpy as np \n",
    "from datetime import datetime\n",
    "\n",
    "kdb_date = \"2022-01-19\"\n",
    "kdb_date = kdb_date.replace('-','.')\n",
    "print(kdb_date)\n",
    "\n",
    "\n",
    "## Open a connection to kdb \n",
    "q = qconnection.QConnection(host = 'kdb.dts.corp.local',port=8004,username='Administrator',password='password', pandas=True)\n",
    "\n",
    "## Retreives data from KDB\n",
    "q.open()\n",
    "kdb_trades=q.sendSync('.engie.getAssessmentsPrices('+kdb_date+')')\n",
    "q.close() \n",
    "\n",
    "## kdb symbols/strings returned as python byte strings -- convert these to regular strings \n",
    "bstr_cols = kdb_trades.select_dtypes([object]).columns\n",
    "for i in bstr_cols:\n",
    "    kdb_trades[i]=kdb_trades[i].apply(lambda x: x.decode('latin'))\n",
    "    \n",
    "Alteryx.write(kdb_trades,1)#le num depend du nb de l'output, ici 1"
   ]
  },
  {
   "cell_type": "code",
   "execution_count": 3,
   "metadata": {},
   "outputs": [],
   "source": [
    "pip install ayx-python-sdk"
   ]
  },
  {
   "cell_type": "code",
   "execution_count": null,
   "metadata": {},
   "outputs": [],
   "source": []
  }
 ],
 "metadata": {
  "kernelspec": {
   "display_name": "Python 3.9.12 ('base')",
   "language": "python",
   "name": "python3"
  },
  "language_info": {
   "codemirror_mode": {
    "name": "ipython",
    "version": 3
   },
   "file_extension": ".py",
   "mimetype": "text/x-python",
   "name": "python",
   "nbconvert_exporter": "python",
   "pygments_lexer": "ipython3",
   "version": "3.9.12"
  },
  "orig_nbformat": 4,
  "vscode": {
   "interpreter": {
    "hash": "0c8d5168a5814bc80189f71f98516343d325a456589ee983c51fc66b166f4d71"
   }
  }
 },
 "nbformat": 4,
 "nbformat_minor": 2
}
