{
 "cells": [
  {
   "cell_type": "markdown",
   "metadata": {},
   "source": [
    "# Markit: recuperation des donnes brutes"
   ]
  },
  {
   "cell_type": "code",
   "execution_count": 95,
   "metadata": {},
   "outputs": [],
   "source": [
    "# import des libs\n",
    "import pandas as pd\n",
    "import numpy as np\n",
    "import datetime as dt\n",
    "from os import *\n",
    "from os.path import *\n",
    "import re \n",
    "import xlwings as xw\n",
    "from xlwings import Range\n",
    "\n",
    "folder_paths = [r\"W:\\UK\\Risk_Control\\Risk_Control_Private\\MiddleOffice\\GPE\\Prices\\Price Check Tool\\Export\\Mark-It Raw\\2022 05\"]\n",
    "\n",
    "for folder_path in folder_paths:\n",
    "    onlyfiles = pd.DataFrame([f for f in listdir(folder_path) if isfile(join(folder_path, f))], columns = [\"Files\"])\n",
    "    onlyfiles['Date'] = onlyfiles['Files'].apply(lambda x: dt.datetime.strptime(re.search('(\\d\\d-\\d\\d-\\d\\d\\d\\d)', x).groups()[0], '%d-%m-%Y'))"
   ]
  },
  {
   "cell_type": "code",
   "execution_count": 96,
   "metadata": {},
   "outputs": [
    {
     "name": "stdout",
     "output_type": "stream",
     "text": [
      "Mark-It Raw - 03-05-2022.xlsx\n",
      "Data collected fromMark-It Raw - 03-05-2022.xlsx\n",
      "Mark-It Raw - 04-05-2022.xlsx\n",
      "Data collected fromMark-It Raw - 04-05-2022.xlsx\n",
      "Mark-It Raw - 05-05-2022.xlsx\n",
      "Data collected fromMark-It Raw - 05-05-2022.xlsx\n",
      "Mark-It Raw - 06-05-2022.xlsx\n",
      "Data collected fromMark-It Raw - 06-05-2022.xlsx\n",
      "Mark-It Raw - 09-05-2022.xlsx\n",
      "Data collected fromMark-It Raw - 09-05-2022.xlsx\n",
      "Mark-It Raw - 10-05-2022.xlsx\n",
      "Data collected fromMark-It Raw - 10-05-2022.xlsx\n",
      "Mark-It Raw - 11-05-2022.xlsx\n",
      "Data collected fromMark-It Raw - 11-05-2022.xlsx\n",
      "Mark-It Raw - 12-05-2022.xlsx\n",
      "Data collected fromMark-It Raw - 12-05-2022.xlsx\n",
      "Mark-It Raw - 13-05-2022.xlsx\n",
      "Data collected fromMark-It Raw - 13-05-2022.xlsx\n",
      "Mark-It Raw - 16-05-2022.xlsx\n",
      "Data collected fromMark-It Raw - 16-05-2022.xlsx\n",
      "Mark-It Raw - 17-05-2022.xlsx\n",
      "Data collected fromMark-It Raw - 17-05-2022.xlsx\n",
      "Mark-It Raw - 18-05-2022.xlsx\n",
      "Data collected fromMark-It Raw - 18-05-2022.xlsx\n",
      "Mark-It Raw - 19-05-2022.xlsx\n",
      "Data collected fromMark-It Raw - 19-05-2022.xlsx\n",
      "Mark-It Raw - 20-05-2022.xlsx\n",
      "Data collected fromMark-It Raw - 20-05-2022.xlsx\n",
      "Mark-It Raw - 23-05-2022.xlsx\n",
      "Data collected fromMark-It Raw - 23-05-2022.xlsx\n",
      "Mark-It Raw - 24-05-2022.xlsx\n",
      "Data collected fromMark-It Raw - 24-05-2022.xlsx\n",
      "Mark-It Raw - 25-05-2022.xlsx\n",
      "Data collected fromMark-It Raw - 25-05-2022.xlsx\n",
      "Mark-It Raw - 26-05-2022.xlsx\n",
      "Data collected fromMark-It Raw - 26-05-2022.xlsx\n",
      "Mark-It Raw - 27-05-2022.xlsx\n",
      "Data collected fromMark-It Raw - 27-05-2022.xlsx\n",
      "Mark-It Raw - 30-05-2022.xlsx\n",
      "Data collected fromMark-It Raw - 30-05-2022.xlsx\n",
      "Mark-It Raw - 31-05-2022.xlsx\n",
      "Data collected fromMark-It Raw - 31-05-2022.xlsx\n",
      "travail fait\n"
     ]
    }
   ],
   "source": [
    "markit_consensus = []\n",
    "\n",
    "# for each file in the month folder\n",
    "for index, row in onlyfiles.iterrows():\n",
    "    print(row['Files'])\n",
    "    wb = xw.Book(folder_path + '/' + row['Files'], update_links = False)\n",
    "    ws = wb.sheets('Markit Raw')\n",
    "\n",
    "# filter data on power   \n",
    "    num_col = ws.range('A1').end('right').column\n",
    "    num_row = ws.range('A1').end('down').row\n",
    "    ws.range((1,1),(num_row,num_col)).api.AutoFilter(Field:= 8 , Criteria1:= \"European Power\" ) \n",
    "    markit = pd.DataFrame(ws.range((1,1),(num_row,num_col)).value)\n",
    "    markit.drop_duplicates(inplace = True)\n",
    "    markit_consensus.append(markit)\n",
    "    print('Data collected from' + row['Files'])\n",
    "    wb.close()\n",
    "\n",
    "\n",
    "markit_consensus = pd.concat(markit_consensus)\n",
    "markit_consensus.drop(markit_consensus[markit_consensus[38] == 0], inplace = True)\n",
    "markit_consensus.dropna(inplace = True)\n",
    "markit_consensus.to_csv(r\"C:\\Users\\rmolli\\Desktop\\Power-Europe\\Data Mark-It Raw 05\", index = False, header = False)\n",
    "print(\"travail fait\")\n",
    "\n"
   ]
  }
 ],
 "metadata": {
  "kernelspec": {
   "display_name": "Python 3.9.12",
   "language": "python",
   "name": "python3"
  },
  "language_info": {
   "codemirror_mode": {
    "name": "ipython",
    "version": 3
   },
   "file_extension": ".py",
   "mimetype": "text/x-python",
   "name": "python",
   "nbconvert_exporter": "python",
   "pygments_lexer": "ipython3",
   "version": "3.9.12"
  },
  "orig_nbformat": 4,
  "vscode": {
   "interpreter": {
    "hash": "0c8d5168a5814bc80189f71f98516343d325a456589ee983c51fc66b166f4d71"
   }
  }
 },
 "nbformat": 4,
 "nbformat_minor": 2
}
