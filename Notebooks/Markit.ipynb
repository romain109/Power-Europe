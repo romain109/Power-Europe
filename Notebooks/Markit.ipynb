{
 "cells": [
  {
   "cell_type": "markdown",
   "metadata": {},
   "source": [
    "# Markit "
   ]
  },
  {
   "cell_type": "code",
   "execution_count": 15,
   "metadata": {},
   "outputs": [],
   "source": [
    "# import des libs\n",
    "import pandas as pd\n",
    "import numpy as np\n",
    "import datetime as dt\n",
    "from os import *\n",
    "from os.path import *\n",
    "import re \n",
    "import xlwings as xw\n",
    "from xlwings import Range\n",
    "\n",
    "folder_paths = [r\"W:\\UK\\Risk_Control\\Risk_Control_Private\\MiddleOffice\\GPE\\Prices\\Price Check Tool\\Export\\Mark-It Raw\\2022 04\"]\n",
    "\n",
    "for folder_path in folder_paths:\n",
    "    onlyfiles = pd.DataFrame([f for f in listdir(folder_path) if isfile(join(folder_path, f))], columns = [\"Files\"])\n",
    "    onlyfiles['Date'] = onlyfiles['Files'].apply(lambda x: dt.datetime.strptime(re.search('(\\d\\d-\\d\\d-\\d\\d\\d\\d)', x).groups()[0], '%d-%m-%Y'))"
   ]
  },
  {
   "cell_type": "code",
   "execution_count": null,
   "metadata": {},
   "outputs": [
    {
     "data": {
      "text/html": [
       "<div>\n",
       "<style scoped>\n",
       "    .dataframe tbody tr th:only-of-type {\n",
       "        vertical-align: middle;\n",
       "    }\n",
       "\n",
       "    .dataframe tbody tr th {\n",
       "        vertical-align: top;\n",
       "    }\n",
       "\n",
       "    .dataframe thead th {\n",
       "        text-align: right;\n",
       "    }\n",
       "</style>\n",
       "<table border=\"1\" class=\"dataframe\">\n",
       "  <thead>\n",
       "    <tr style=\"text-align: right;\">\n",
       "      <th></th>\n",
       "      <th>Files</th>\n",
       "      <th>Date</th>\n",
       "    </tr>\n",
       "  </thead>\n",
       "  <tbody>\n",
       "    <tr>\n",
       "      <th>0</th>\n",
       "      <td>Mark-It Raw - 07-04-2022.xlsx</td>\n",
       "      <td>2022-04-07</td>\n",
       "    </tr>\n",
       "  </tbody>\n",
       "</table>\n",
       "</div>"
      ],
      "text/plain": [
       "                           Files       Date\n",
       "0  Mark-It Raw - 07-04-2022.xlsx 2022-04-07"
      ]
     },
     "execution_count": 13,
     "metadata": {},
     "output_type": "execute_result"
    }
   ],
   "source": [
    "o = onlyfiles[0:1]\n",
    "o"
   ]
  },
  {
   "cell_type": "code",
   "execution_count": null,
   "metadata": {},
   "outputs": [
    {
     "name": "stdout",
     "output_type": "stream",
     "text": [
      "Mark-It Raw - 07-04-2022.xlsx\n"
     ]
    },
    {
     "ename": "KeyboardInterrupt",
     "evalue": "",
     "output_type": "error",
     "traceback": [
      "\u001b[1;31m---------------------------------------------------------------------------\u001b[0m",
      "\u001b[1;31mAttributeError\u001b[0m                            Traceback (most recent call last)",
      "File \u001b[1;32mc:\\Users\\rmolli\\Anaconda3\\lib\\site-packages\\xlwings\\_xlwindows.py:126\u001b[0m, in \u001b[0;36mCOMRetryObjectWrapper.__getattr__\u001b[1;34m(self, item)\u001b[0m\n\u001b[0;32m    125\u001b[0m \u001b[39mtry\u001b[39;00m:\n\u001b[1;32m--> 126\u001b[0m     v \u001b[39m=\u001b[39m \u001b[39mgetattr\u001b[39;49m(\u001b[39mself\u001b[39;49m\u001b[39m.\u001b[39;49m_inner, item)\n\u001b[0;32m    127\u001b[0m     \u001b[39mif\u001b[39;00m \u001b[39misinstance\u001b[39m(v, (CDispatch, CoClassBaseClass, DispatchBaseClass)):\n",
      "File \u001b[1;32mc:\\Users\\rmolli\\Anaconda3\\lib\\site-packages\\win32com\\client\\__init__.py:580\u001b[0m, in \u001b[0;36mDispatchBaseClass.__getattr__\u001b[1;34m(self, attr)\u001b[0m\n\u001b[0;32m    579\u001b[0m \u001b[39mif\u001b[39;00m args \u001b[39mis\u001b[39;00m \u001b[39mNone\u001b[39;00m:\n\u001b[1;32m--> 580\u001b[0m     \u001b[39mraise\u001b[39;00m \u001b[39mAttributeError\u001b[39;00m(\n\u001b[0;32m    581\u001b[0m         \u001b[39m\"\u001b[39m\u001b[39m'\u001b[39m\u001b[39m%s\u001b[39;00m\u001b[39m'\u001b[39m\u001b[39m object has no attribute \u001b[39m\u001b[39m'\u001b[39m\u001b[39m%s\u001b[39;00m\u001b[39m'\u001b[39m\u001b[39m\"\u001b[39m \u001b[39m%\u001b[39m (\u001b[39mrepr\u001b[39m(\u001b[39mself\u001b[39m), attr)\n\u001b[0;32m    582\u001b[0m     )\n\u001b[0;32m    583\u001b[0m \u001b[39mreturn\u001b[39;00m \u001b[39mself\u001b[39m\u001b[39m.\u001b[39m_ApplyTypes_(\u001b[39m*\u001b[39margs)\n",
      "\u001b[1;31mAttributeError\u001b[0m: '<win32com.gen_py.Microsoft Excel 16.0 Object Library._Worksheet instance at 0x2128437292432>' object has no attribute 'range'",
      "\nDuring handling of the above exception, another exception occurred:\n",
      "\u001b[1;31mKeyboardInterrupt\u001b[0m                         Traceback (most recent call last)",
      "\u001b[1;32mc:\\Users\\rmolli\\Desktop\\Power-Europe\\Notebooks\\Markit.ipynb Cell 4'\u001b[0m in \u001b[0;36m<cell line: 4>\u001b[1;34m()\u001b[0m\n\u001b[0;32m     <a href='vscode-notebook-cell:/c%3A/Users/rmolli/Desktop/Power-Europe/Notebooks/Markit.ipynb#ch0000005?line=10'>11</a>\u001b[0m     num_row \u001b[39m=\u001b[39m ws\u001b[39m.\u001b[39mrange(\u001b[39m'\u001b[39m\u001b[39mA1\u001b[39m\u001b[39m'\u001b[39m)\u001b[39m.\u001b[39mend(\u001b[39m'\u001b[39m\u001b[39mdown\u001b[39m\u001b[39m'\u001b[39m)\u001b[39m.\u001b[39mrow\n\u001b[0;32m     <a href='vscode-notebook-cell:/c%3A/Users/rmolli/Desktop/Power-Europe/Notebooks/Markit.ipynb#ch0000005?line=11'>12</a>\u001b[0m     \u001b[39m#ws.api.range((1,1),(num_row,num_col)).Autofilter(Field:= 8 , Criteria1:= \"European Power\") #, Field:= 39 , Criteria1:=   \u001b[39;00m\n\u001b[1;32m---> <a href='vscode-notebook-cell:/c%3A/Users/rmolli/Desktop/Power-Europe/Notebooks/Markit.ipynb#ch0000005?line=12'>13</a>\u001b[0m     ws\u001b[39m.\u001b[39;49mapi\u001b[39m.\u001b[39;49mrange((\u001b[39m1\u001b[39m,\u001b[39m1\u001b[39m),(num_row,num_col))\u001b[39m.\u001b[39mselect\n\u001b[0;32m     <a href='vscode-notebook-cell:/c%3A/Users/rmolli/Desktop/Power-Europe/Notebooks/Markit.ipynb#ch0000005?line=13'>14</a>\u001b[0m \u001b[39mprint\u001b[39m(\u001b[39m\"\u001b[39m\u001b[39mtravail f2\u001b[39m\u001b[39m\"\u001b[39m)\n",
      "File \u001b[1;32mc:\\Users\\rmolli\\Anaconda3\\lib\\site-packages\\xlwings\\_xlwindows.py:145\u001b[0m, in \u001b[0;36mCOMRetryObjectWrapper.__getattr__\u001b[1;34m(self, item)\u001b[0m\n\u001b[0;32m    139\u001b[0m \u001b[39mexcept\u001b[39;00m \u001b[39mAttributeError\u001b[39;00m \u001b[39mas\u001b[39;00m e:\n\u001b[0;32m    140\u001b[0m     \u001b[39m# Pywin32 reacts incorrectly to RPC_E_CALL_REJECTED (i.e. assumes attribute doesn't\u001b[39;00m\n\u001b[0;32m    141\u001b[0m     \u001b[39m# exist, thus not allowing to destinguish between cases where attribute really doesn't\u001b[39;00m\n\u001b[0;32m    142\u001b[0m     \u001b[39m# exist or error is only being thrown because the COM RPC server is busy). Here\u001b[39;00m\n\u001b[0;32m    143\u001b[0m     \u001b[39m# we try to test to see what's going on really\u001b[39;00m\n\u001b[0;32m    144\u001b[0m     \u001b[39mtry\u001b[39;00m:\n\u001b[1;32m--> 145\u001b[0m         \u001b[39mself\u001b[39;49m\u001b[39m.\u001b[39;49m_oleobj_\u001b[39m.\u001b[39;49mGetIDsOfNames(\u001b[39m0\u001b[39;49m, item)\n\u001b[0;32m    146\u001b[0m     \u001b[39mexcept\u001b[39;00m pythoncom\u001b[39m.\u001b[39mole_error \u001b[39mas\u001b[39;00m e:\n\u001b[0;32m    147\u001b[0m         \u001b[39mif\u001b[39;00m e\u001b[39m.\u001b[39mhresult \u001b[39m!=\u001b[39m \u001b[39m-\u001b[39m\u001b[39m2147418111\u001b[39m:   \u001b[39m# RPC_E_CALL_REJECTED\u001b[39;00m\n\u001b[0;32m    148\u001b[0m             \u001b[39m# attribute probably really doesn't exist\u001b[39;00m\n",
      "\u001b[1;31mKeyboardInterrupt\u001b[0m: "
     ]
    }
   ],
   "source": [
    "markit_consensus = []\n",
    "\n",
    "# for each file in the month folder\n",
    "for index, row in o.iterrows():\n",
    "    print(row['Files'])\n",
    "    wb = xw.Book(folder_path + '/' + row['Files'], update_links = False)\n",
    "    ws = wb.sheets('Markit Raw')\n",
    "\n",
    "# filter data on power   \n",
    "    num_col = ws.range('A1').end('right').column\n",
    "    num_row = ws.range('A1').end('down').row\n",
    "    #ws.api.range((1,1),(num_row,num_col)).Autofilter(Field:= 8 , Criteria1:= \"European Power\") #, Field:= 39 , Criteria1:=   \n",
    "    ws.api.range(\"A:A\").Autofilter\n",
    "print(\"travail f2\")"
   ]
  },
  {
   "cell_type": "code",
   "execution_count": null,
   "metadata": {},
   "outputs": [
    {
     "name": "stdout",
     "output_type": "stream",
     "text": [
      "Mark-It Raw - 07-04-2022.xlsx\n"
     ]
    },
    {
     "ename": "com_error",
     "evalue": "(-2147352567, 'Exception occurred.', (0, None, None, None, 0, -2147352565), None)",
     "output_type": "error",
     "traceback": [
      "\u001b[1;31m---------------------------------------------------------------------------\u001b[0m",
      "\u001b[1;31mcom_error\u001b[0m                                 Traceback (most recent call last)",
      "\u001b[1;32mc:\\Users\\rmolli\\Desktop\\Power-Europe\\Notebooks\\Markit.ipynb Cell 5'\u001b[0m in \u001b[0;36m<cell line: 2>\u001b[1;34m()\u001b[0m\n\u001b[0;32m      <a href='vscode-notebook-cell:/c%3A/Users/rmolli/Desktop/Power-Europe/Notebooks/Markit.ipynb#ch0000004?line=2'>3</a>\u001b[0m \u001b[39mprint\u001b[39m(row[\u001b[39m'\u001b[39m\u001b[39mFiles\u001b[39m\u001b[39m'\u001b[39m])\n\u001b[0;32m      <a href='vscode-notebook-cell:/c%3A/Users/rmolli/Desktop/Power-Europe/Notebooks/Markit.ipynb#ch0000004?line=3'>4</a>\u001b[0m wb \u001b[39m=\u001b[39m xw\u001b[39m.\u001b[39mBook(folder_path \u001b[39m+\u001b[39m \u001b[39m'\u001b[39m\u001b[39m/\u001b[39m\u001b[39m'\u001b[39m \u001b[39m+\u001b[39m row[\u001b[39m'\u001b[39m\u001b[39mFiles\u001b[39m\u001b[39m'\u001b[39m], update_links \u001b[39m=\u001b[39m \u001b[39mFalse\u001b[39;00m)\n\u001b[1;32m----> <a href='vscode-notebook-cell:/c%3A/Users/rmolli/Desktop/Power-Europe/Notebooks/Markit.ipynb#ch0000004?line=4'>5</a>\u001b[0m ws \u001b[39m=\u001b[39m wb\u001b[39m.\u001b[39;49msheets(\u001b[39m'\u001b[39;49m\u001b[39mFlat trader vols\u001b[39;49m\u001b[39m'\u001b[39;49m)\n\u001b[0;32m      <a href='vscode-notebook-cell:/c%3A/Users/rmolli/Desktop/Power-Europe/Notebooks/Markit.ipynb#ch0000004?line=6'>7</a>\u001b[0m \u001b[39m# find the numbers of columns and rows in the sheet\u001b[39;00m\n\u001b[0;32m      <a href='vscode-notebook-cell:/c%3A/Users/rmolli/Desktop/Power-Europe/Notebooks/Markit.ipynb#ch0000004?line=7'>8</a>\u001b[0m num_col \u001b[39m=\u001b[39m ws\u001b[39m.\u001b[39mrange(\u001b[39m'\u001b[39m\u001b[39mA1\u001b[39m\u001b[39m'\u001b[39m)\u001b[39m.\u001b[39mend(\u001b[39m'\u001b[39m\u001b[39mright\u001b[39m\u001b[39m'\u001b[39m)\u001b[39m.\u001b[39mcolumn\n",
      "File \u001b[1;32mc:\\Users\\rmolli\\Anaconda3\\lib\\site-packages\\xlwings\\main.py:4314\u001b[0m, in \u001b[0;36mSheets.__call__\u001b[1;34m(self, name_or_index)\u001b[0m\n\u001b[0;32m   4312\u001b[0m     \u001b[39mreturn\u001b[39;00m name_or_index\n\u001b[0;32m   4313\u001b[0m \u001b[39melse\u001b[39;00m:\n\u001b[1;32m-> 4314\u001b[0m     \u001b[39mreturn\u001b[39;00m Sheet(impl\u001b[39m=\u001b[39m\u001b[39mself\u001b[39;49m\u001b[39m.\u001b[39;49mimpl(name_or_index))\n",
      "File \u001b[1;32mc:\\Users\\rmolli\\Anaconda3\\lib\\site-packages\\xlwings\\_xlwindows.py:617\u001b[0m, in \u001b[0;36mSheets.__call__\u001b[1;34m(self, name_or_index)\u001b[0m\n\u001b[0;32m    616\u001b[0m \u001b[39mdef\u001b[39;00m \u001b[39m__call__\u001b[39m(\u001b[39mself\u001b[39m, name_or_index):\n\u001b[1;32m--> 617\u001b[0m     \u001b[39mreturn\u001b[39;00m Sheet(xl\u001b[39m=\u001b[39m\u001b[39mself\u001b[39;49m\u001b[39m.\u001b[39;49mxl(name_or_index))\n",
      "File \u001b[1;32mc:\\Users\\rmolli\\Anaconda3\\lib\\site-packages\\xlwings\\_xlwindows.py:160\u001b[0m, in \u001b[0;36mCOMRetryObjectWrapper.__call__\u001b[1;34m(self, *args, **kwargs)\u001b[0m\n\u001b[0;32m    158\u001b[0m \u001b[39mfor\u001b[39;00m i \u001b[39min\u001b[39;00m \u001b[39mrange\u001b[39m(N_COM_ATTEMPTS \u001b[39m+\u001b[39m \u001b[39m1\u001b[39m):\n\u001b[0;32m    159\u001b[0m     \u001b[39mtry\u001b[39;00m:\n\u001b[1;32m--> 160\u001b[0m         v \u001b[39m=\u001b[39m \u001b[39mself\u001b[39m\u001b[39m.\u001b[39m_inner(\u001b[39m*\u001b[39margs, \u001b[39m*\u001b[39m\u001b[39m*\u001b[39mkwargs)\n\u001b[0;32m    161\u001b[0m         \u001b[39mif\u001b[39;00m \u001b[39misinstance\u001b[39m(v, (CDispatch, CoClassBaseClass, DispatchBaseClass)):\n\u001b[0;32m    162\u001b[0m             \u001b[39mreturn\u001b[39;00m COMRetryObjectWrapper(v)\n",
      "File \u001b[1;32m~\\AppData\\Local\\Temp\\gen_py\\3.9\\00020813-0000-0000-C000-000000000046x0x1x9.py:35340\u001b[0m, in \u001b[0;36mSheets.__call__\u001b[1;34m(self, Index)\u001b[0m\n\u001b[0;32m  35339\u001b[0m \u001b[39mdef\u001b[39;00m \u001b[39m__call__\u001b[39m(\u001b[39mself\u001b[39m, Index\u001b[39m=\u001b[39mdefaultNamedNotOptArg):\n\u001b[1;32m> 35340\u001b[0m \tret \u001b[39m=\u001b[39m \u001b[39mself\u001b[39;49m\u001b[39m.\u001b[39;49m_oleobj_\u001b[39m.\u001b[39;49mInvokeTypes(\u001b[39m0\u001b[39;49m, LCID, \u001b[39m2\u001b[39;49m, (\u001b[39m9\u001b[39;49m, \u001b[39m0\u001b[39;49m), ((\u001b[39m12\u001b[39;49m, \u001b[39m1\u001b[39;49m),),Index\n\u001b[0;32m  35341\u001b[0m \t\t)\n\u001b[0;32m  35342\u001b[0m \t\u001b[39mif\u001b[39;00m ret \u001b[39mis\u001b[39;00m \u001b[39mnot\u001b[39;00m \u001b[39mNone\u001b[39;00m:\n\u001b[0;32m  35343\u001b[0m \t\tret \u001b[39m=\u001b[39m Dispatch(ret, \u001b[39m'\u001b[39m\u001b[39m__call__\u001b[39m\u001b[39m'\u001b[39m, \u001b[39mNone\u001b[39;00m)\n",
      "\u001b[1;31mcom_error\u001b[0m: (-2147352567, 'Exception occurred.', (0, None, None, None, 0, -2147352565), None)"
     ]
    }
   ],
   "source": [
    "trader_vol_all = []\n",
    "for index, row in o.iterrows():\n",
    "    print(row['Files'])\n",
    "    wb = xw.Book(folder_path + '/' + row['Files'], update_links = False)\n",
    "    ws = wb.sheets('Flat trader vols')\n",
    "\n",
    "    # find the numbers of columns and rows in the sheet\n",
    "    num_col = ws.range('A1').end('right').column\n",
    "    num_row = ws.range('A1').end('down').row\n",
    "    trader_vol = pd.DataFrame(ws.range((1,1),(num_row,num_col)).value)\n",
    "    trader_vol = trader_vol.drop_duplicates()\n",
    "    trader_vol_all.append(trader_vol)\n",
    "    print('Data collected from' + row['Files'])\n",
    "    wb.close() \n",
    "\n",
    "print(\"Saving CSV\")\n",
    "trader_vol_all = pd.concat(trader_vol_all)\n",
    "trader_vol_all.drop_duplicates(inplace=True)\n",
    "#trader_vol_all.to_csv(r\"W:\\UK\\Risk_Control\\Risk_Control_Private\\MiddleOffice\\Middle Office Power\\Prices\\Power Vols Check\\Excel File Archive\\2022\\Power Vol Excel 2022-04\\Vol_Archive.csv\", index = False, header = False)\n",
    "print(\"CSV OK\")"
   ]
  }
 ],
 "metadata": {
  "kernelspec": {
   "display_name": "Python 3.9.12",
   "language": "python",
   "name": "python3"
  },
  "language_info": {
   "codemirror_mode": {
    "name": "ipython",
    "version": 3
   },
   "file_extension": ".py",
   "mimetype": "text/x-python",
   "name": "python",
   "nbconvert_exporter": "python",
   "pygments_lexer": "ipython3",
   "version": "3.9.12"
  },
  "orig_nbformat": 4,
  "vscode": {
   "interpreter": {
    "hash": "0c8d5168a5814bc80189f71f98516343d325a456589ee983c51fc66b166f4d71"
   }
  }
 },
 "nbformat": 4,
 "nbformat_minor": 2
}
