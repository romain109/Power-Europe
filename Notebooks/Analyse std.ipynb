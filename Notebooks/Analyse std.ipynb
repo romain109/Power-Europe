{
 "cells": [
  {
   "cell_type": "markdown",
   "metadata": {},
   "source": [
    "# Analyse Std Dev Markit"
   ]
  },
  {
   "cell_type": "code",
   "execution_count": 19,
   "metadata": {},
   "outputs": [],
   "source": [
    "# import des libs\n",
    "import pandas as pd\n",
    "import numpy as np\n",
    "import datetime as dt\n",
    "from os import *\n",
    "from os.path import *\n",
    "import re \n",
    "import xlwings as xw\n",
    "from xlwings import Range\n"
   ]
  },
  {
   "cell_type": "code",
   "execution_count": 20,
   "metadata": {},
   "outputs": [],
   "source": [
    "data = pd.read_csv(r\"C:\\Users\\rmolli\\Desktop\\Power-Europe\\Data Mark-It Raw 07.csv\")\n",
    "header = ['ClientID',\t'ValuationDate', 'AssetClass',\t'ServiceName',\t'ServiceFrequency',\t'SubArea'\t,'SchemaVersion', 'ContractGroup'\t,'Currency'\t,'ReferencePublication1', 'ReferencePublication2',\t'Underlying',\t'Underlying1'\t,'Underlying2'\t,'CCYScalar',\t'ClientPrice',\t'CompositePrice',\t'ConsensusPrice',\t'DistributionMinus4\t', 'DistributionMinus3', 'DistributionMinus2',\t'DistributionMinus1','Distribution0','DistributionPlus1','DistributionPlus2'\t,'DistributionPlus3',\t'DistributionPlus4','EndDate',\t'InstrumentType',\t'InstrumentType1','IsImplied', \t'KnockoutPrice'\t, 'KurtosisPrice'\t, 'NumberAcceptedPrice'\t,'Period'\t,'PricingTime'\t,'RangePrice'\t,'SkewnessPrice\t','StandardDeviationPrice',\t'StartDate'\t]\n",
    "data.columns = header\n",
    "data"
   ]
  }
 ],
 "metadata": {
  "kernelspec": {
   "display_name": "Python 3.9.12",
   "language": "python",
   "name": "python3"
  },
  "language_info": {
   "codemirror_mode": {
    "name": "ipython",
    "version": 3
   },
   "file_extension": ".py",
   "mimetype": "text/x-python",
   "name": "python",
   "nbconvert_exporter": "python",
   "pygments_lexer": "ipython3",
   "version": "3.9.12"
  },
  "orig_nbformat": 4,
  "vscode": {
   "interpreter": {
    "hash": "0c8d5168a5814bc80189f71f98516343d325a456589ee983c51fc66b166f4d71"
   }
  }
 },
 "nbformat": 4,
 "nbformat_minor": 2
}
